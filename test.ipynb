{
 "cells": [
  {
   "cell_type": "code",
   "execution_count": 5,
   "metadata": {},
   "outputs": [
    {
     "name": "stderr",
     "output_type": "stream",
     "text": [
      "C:\\Users\\vince\\AppData\\Local\\Temp\\ipykernel_31164\\1930216629.py:20: DeprecationWarning: ANTIALIAS is deprecated and will be removed in Pillow 10 (2023-07-01). Use LANCZOS or Resampling.LANCZOS instead.\n",
      "  resize_Image2 = img2.resize((300,205), Image.ANTIALIAS)\n"
     ]
    },
    {
     "name": "stdout",
     "output_type": "stream",
     "text": [
      "1 to 2\n",
      "2 to 3\n"
     ]
    }
   ],
   "source": [
    "import tkinter as tk\n",
    "from tkinter import *\n",
    "from PIL import ImageTk, Image\n",
    "top = tk.Tk()\n",
    "# Code to add widgets will go here...\n",
    "top.geometry(\"700x500\")\n",
    "\n",
    "frame = Frame(top, width=600, height=400)\n",
    "frame2 = tk.Frame(top, bg = \"red\")\n",
    "frame3 = tk.Frame(top, bg = \"green\")\n",
    "frame4 = tk.Frame(top, bg = \"blue\")\n",
    "\n",
    "\n",
    "frame.pack()\n",
    "frame.place(anchor='center', relx=0.5, rely=0.5)\n",
    "#frame2.place(anchor='center', relx=0.5, rely=0.5)\n",
    "# Create an object of tkinter ImageTk\n",
    "img = ImageTk.PhotoImage(Image.open(\"HD-wallpaper-rabbits-cute-animals-gray-rabbits-forest-forest-dwellers-little-rabbits.jpg\"))\n",
    "img2 = Image.open(\"26ed1dc521d48963145ababa34487c47.jpg\")\n",
    "resize_Image2 = img2.resize((300,205), Image.ANTIALIAS)\n",
    "new_image= ImageTk.PhotoImage(resize_Image2)\n",
    "# Create a Label Widget to display the text or Image\n",
    "label = tk.Label(frame, image = img)\n",
    "label2 = tk.Label(frame2, image = new_image)\n",
    "label3 = tk.Label(frame3, text =\"third Frame\")\n",
    "\n",
    "def funct1to2():\n",
    "    print(\"1 to 2\")\n",
    "    frame.pack_forget()\n",
    "    frame2.pack()\n",
    "\n",
    "def funct2to3():\n",
    "    print(\"2 to 3\")\n",
    "    frame2.pack_forget()\n",
    "    frame3.pack()\n",
    "\n",
    "def funct1to3():\n",
    "    print(\"3 to 1\")\n",
    "    frame3.pack_forget()\n",
    "    frame.pack()\n",
    "\n",
    "btn1to2 = tk.Button(frame, text = \"Start\", command=funct1to2)\n",
    "btn2to3 = tk.Button(frame2, text = \"1 to 2\", command=funct2to3)\n",
    "btn3to1 = tk.Button(frame3, text = \"3 to 1\", command=funct1to3)\n",
    "#frame1\n",
    "label.pack()\n",
    "btn1to2.pack()\n",
    "#frame2\n",
    "label2.pack()\n",
    "btn2to3.pack()\n",
    "#frame3\n",
    "label3.pack()\n",
    "btn3to1.pack()\n",
    "top.mainloop()"
   ]
  },
  {
   "cell_type": "code",
   "execution_count": 1,
   "metadata": {},
   "outputs": [
    {
     "name": "stdout",
     "output_type": "stream",
     "text": [
      "Hello\n",
      "This is the next line\n"
     ]
    }
   ],
   "source": [
    "print(\"Hello\")\n",
    "print(\"This is the next line\")"
   ]
  }
 ],
 "metadata": {
  "kernelspec": {
   "display_name": "Python 3",
   "language": "python",
   "name": "python3"
  },
  "language_info": {
   "codemirror_mode": {
    "name": "ipython",
    "version": 3
   },
   "file_extension": ".py",
   "mimetype": "text/x-python",
   "name": "python",
   "nbconvert_exporter": "python",
   "pygments_lexer": "ipython3",
   "version": "3.10.9"
  },
  "orig_nbformat": 4,
  "vscode": {
   "interpreter": {
    "hash": "4fe9fc528c76443723f42f7680e92780167f3ca264ccfd0382ee138a3ef8c40e"
   }
  }
 },
 "nbformat": 4,
 "nbformat_minor": 2
}
