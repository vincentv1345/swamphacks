{
 "cells": [
  {
   "cell_type": "code",
   "execution_count": 15,
   "metadata": {},
   "outputs": [
    {
     "ename": "FileNotFoundError",
     "evalue": "[Errno 2] No such file or directory: 'forest.jpg'",
     "output_type": "error",
     "traceback": [
      "\u001b[1;31m---------------------------------------------------------------------------\u001b[0m",
      "\u001b[1;31mFileNotFoundError\u001b[0m                         Traceback (most recent call last)",
      "Cell \u001b[1;32mIn[15], line 13\u001b[0m\n\u001b[0;32m     10\u001b[0m frame\u001b[39m.\u001b[39mplace(anchor\u001b[39m=\u001b[39m\u001b[39m'\u001b[39m\u001b[39mcenter\u001b[39m\u001b[39m'\u001b[39m, relx\u001b[39m=\u001b[39m\u001b[39m0.5\u001b[39m, rely\u001b[39m=\u001b[39m\u001b[39m0.5\u001b[39m)\n\u001b[0;32m     12\u001b[0m \u001b[39m# Create an object of tkinter ImageTk\u001b[39;00m\n\u001b[1;32m---> 13\u001b[0m img \u001b[39m=\u001b[39m ImageTk\u001b[39m.\u001b[39mPhotoImage(Image\u001b[39m.\u001b[39;49mopen(\u001b[39m\"\u001b[39;49m\u001b[39mforest.jpg\u001b[39;49m\u001b[39m\"\u001b[39;49m))\n\u001b[0;32m     15\u001b[0m \u001b[39m# Create a Label Widget to display the text or Image\u001b[39;00m\n\u001b[0;32m     16\u001b[0m label \u001b[39m=\u001b[39m Label(frame, image \u001b[39m=\u001b[39m img)\n",
      "File \u001b[1;32mc:\\Python311\\Lib\\site-packages\\PIL\\Image.py:3227\u001b[0m, in \u001b[0;36mopen\u001b[1;34m(fp, mode, formats)\u001b[0m\n\u001b[0;32m   3224\u001b[0m     filename \u001b[39m=\u001b[39m fp\n\u001b[0;32m   3226\u001b[0m \u001b[39mif\u001b[39;00m filename:\n\u001b[1;32m-> 3227\u001b[0m     fp \u001b[39m=\u001b[39m builtins\u001b[39m.\u001b[39;49mopen(filename, \u001b[39m\"\u001b[39;49m\u001b[39mrb\u001b[39;49m\u001b[39m\"\u001b[39;49m)\n\u001b[0;32m   3228\u001b[0m     exclusive_fp \u001b[39m=\u001b[39m \u001b[39mTrue\u001b[39;00m\n\u001b[0;32m   3230\u001b[0m \u001b[39mtry\u001b[39;00m:\n",
      "\u001b[1;31mFileNotFoundError\u001b[0m: [Errno 2] No such file or directory: 'forest.jpg'"
     ]
    }
   ],
   "source": [
    "import tkinter\n",
    "from tkinter import *\n",
    "from PIL import ImageTk, Image\n",
    "top = tkinter.Tk()\n",
    "# Code to add widgets will go here...\n",
    "top.geometry(\"700x500\")\n",
    "\n",
    "frame = Frame(top, width=600, height=400)\n",
    "frame.pack()\n",
    "frame.place(anchor='center', relx=0.5, rely=0.5)\n",
    "\n",
    "# Create an object of tkinter ImageTk\n",
    "img = ImageTk.PhotoImage(Image.open(\"forest.jpg\"))\n",
    "\n",
    "# Create a Label Widget to display the text or Image\n",
    "label = Label(frame, image = img)\n",
    "label.pack()\n",
    "top.mainloop()"
   ]
  },
  {
   "cell_type": "code",
   "execution_count": 1,
   "metadata": {},
   "outputs": [
    {
     "name": "stdout",
     "output_type": "stream",
     "text": [
      "Hello\n",
      "This is the next line\n"
     ]
    }
   ],
   "source": [
    "print(\"Hello\")\n",
    "print(\"This is the next line\")"
   ]
  }
 ],
 "metadata": {
  "kernelspec": {
   "display_name": "Python 3",
   "language": "python",
   "name": "python3"
  },
  "language_info": {
   "codemirror_mode": {
    "name": "ipython",
    "version": 3
   },
   "file_extension": ".py",
   "mimetype": "text/x-python",
   "name": "python",
   "nbconvert_exporter": "python",
   "pygments_lexer": "ipython3",
   "version": "3.10.5 (tags/v3.10.5:f377153, Jun  6 2022, 16:14:13) [MSC v.1929 64 bit (AMD64)]"
  },
  "orig_nbformat": 4,
  "vscode": {
   "interpreter": {
    "hash": "6b8605db324290898d3198729822f8c4a23e383556f41bb781cd34225b5c7329"
   }
  }
 },
 "nbformat": 4,
 "nbformat_minor": 2
}
