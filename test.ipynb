{
 "cells": [
  {
   "cell_type": "code",
   "execution_count": 3,
   "metadata": {},
   "outputs": [],
   "source": [
    "import tkinter as tk\n",
    "from tkinter import *\n",
    "from PIL import ImageTk, Image\n",
    "top = tk.Tk()\n",
    "# Code to add widgets will go here...\n",
    "top.geometry(\"700x500\")\n",
    "\n",
    "frame = Frame(top, width=600, height=400)\n",
    "frame2 = tk.Frame(top, bg = \"red\")\n",
    "frame3 = tk.Frame(top, bg = \"green\")\n",
    "frame4 = tk.Frame(top, bg = \"blue\")\n",
    "\n",
    "\n",
    "frame.pack()\n",
    "frame.place(anchor='center', relx=0.5, rely=0.5)\n",
    "#frame2.place(anchor='center', relx=0.5, rely=0.5)\n",
    "# Create an object of tkinter ImageTk\n",
    "img = ImageTk.PhotoImage(Image.open(\"HD-wallpaper-rabbits-cute-animals-gray-rabbits-forest-forest-dwellers-little-rabbits.jpg\"))\n",
    "img2 = ImageTk.PhotoImage(Image.open(\"26ed1dc521d48963145ababa34487c47.jpg\"))\n",
    "# Create a Label Widget to display the text or Image\n",
    "label = tk.Label(frame, image = img)\n",
    "label2 = tk.Label(frame2, image = img2)\n",
    "label3 = tk.Label(frame3, text =\"third Frame\")\n",
    "\n",
    "def funct1to2():\n",
    "    print(\"1 to 2\")\n",
    "    frame.pack_forget()\n",
    "    frame2.pack()\n",
    "\n",
    "def funct2to3():\n",
    "    print(\"2 to 3\")\n",
    "    frame2.pack_forget()\n",
    "    frame3.pack()\n",
    "\n",
    "def funct1to3():\n",
    "    print(\"3 to 1\")\n",
    "    frame3.pack_forget()\n",
    "    frame.pack()\n",
    "\n",
    "btn1to2 = tk.Button(frame, text = \"1 to 2\", command=funct1to2)\n",
    "btn2to3 = tk.Button(frame2, text = \"1 to 2\", command=funct2to3)\n",
    "btn3to1 = tk.Button(frame3, text = \"3 to 1\", command=funct1to3)\n",
    "#frame1\n",
    "label.pack()\n",
    "btn1to2.pack()\n",
    "#frame2\n",
    "label2.pack()\n",
    "btn2to3.pack()\n",
    "#frame3\n",
    "label3.pack()\n",
    "btn3to1.pack()\n",
    "top.mainloop()"
   ]
  },
  {
   "cell_type": "code",
   "execution_count": 1,
   "metadata": {},
   "outputs": [
    {
     "name": "stdout",
     "output_type": "stream",
     "text": [
      "Hello\n",
      "This is the next line\n"
     ]
    }
   ],
   "source": [
    "print(\"Hello\")\n",
    "print(\"This is the next line\")"
   ]
  }
 ],
 "metadata": {
  "kernelspec": {
   "display_name": "Python 3",
   "language": "python",
   "name": "python3"
  },
  "language_info": {
   "codemirror_mode": {
    "name": "ipython",
    "version": 3
   },
   "file_extension": ".py",
   "mimetype": "text/x-python",
   "name": "python",
   "nbconvert_exporter": "python",
   "pygments_lexer": "ipython3",
   "version": "3.10.5 (tags/v3.10.5:f377153, Jun  6 2022, 16:14:13) [MSC v.1929 64 bit (AMD64)]"
  },
  "orig_nbformat": 4,
  "vscode": {
   "interpreter": {
    "hash": "6b8605db324290898d3198729822f8c4a23e383556f41bb781cd34225b5c7329"
   }
  }
 },
 "nbformat": 4,
 "nbformat_minor": 2
}
