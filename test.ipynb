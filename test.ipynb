{
 "cells": [
  {
   "cell_type": "code",
   "execution_count": null,
   "metadata": {},
   "outputs": [],
   "source": [
    "import tkinter\n",
    "from tkinter import *\n",
    "from PIL import ImageTk, Image\n",
    "top = tkinter.Toplevel()\n",
    "# Code to add widgets will go here...\n",
    "top.geometry(\"700x500\")\n",
    "\n",
    "frame = Frame(top, width=600, height=400)\n",
    "frame.pack()\n",
    "frame.place(anchor='center', relx=0.5, rely=0.5)\n",
    "\n",
    "# Create an object of tkinter ImageTk\n",
    "img = ImageTk.PhotoImage(Image.open(\"HD-wallpaper-rabbits-cute-animals-gray-rabbits-forest-forest-dwellers-little-rabbits.jpg\"))\n",
    "\n",
    "# Create a Label Widget to display the text or Image\n",
    "label = Label(frame, image = img)\n",
    "label.pack()\n",
    "top.mainloop()"
   ]
  },
  {
   "cell_type": "code",
   "execution_count": 1,
   "metadata": {},
   "outputs": [
    {
     "name": "stdout",
     "output_type": "stream",
     "text": [
      "Hello\n",
      "This is the next line\n"
     ]
    }
   ],
   "source": [
    "print(\"Hello\")\n",
    "print(\"This is the next line\")"
   ]
  }
 ],
 "metadata": {
  "kernelspec": {
   "display_name": "Python 3",
   "language": "python",
   "name": "python3"
  },
  "language_info": {
   "codemirror_mode": {
    "name": "ipython",
    "version": 3
   },
   "file_extension": ".py",
   "mimetype": "text/x-python",
   "name": "python",
   "nbconvert_exporter": "python",
   "pygments_lexer": "ipython3",
   "version": "3.10.5 (tags/v3.10.5:f377153, Jun  6 2022, 16:14:13) [MSC v.1929 64 bit (AMD64)]"
  },
  "orig_nbformat": 4,
  "vscode": {
   "interpreter": {
    "hash": "6b8605db324290898d3198729822f8c4a23e383556f41bb781cd34225b5c7329"
   }
  }
 },
 "nbformat": 4,
 "nbformat_minor": 2
}
